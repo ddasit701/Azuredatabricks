{
 "cells": [
  {
   "cell_type": "code",
   "execution_count": 0,
   "metadata": {
    "application/vnd.databricks.v1+cell": {
     "cellMetadata": {
      "byteLimit": 2048000,
      "rowLimit": 10000
     },
     "inputWidgets": {},
     "nuid": "b50f9947-fe0a-40f5-bc5f-46bdcccf57c1",
     "showTitle": false,
     "tableResultSettingsMap": {},
     "title": ""
    }
   },
   "outputs": [],
   "source": [
    "--CREATE SCHEMA WITHOUT EXTERNAL LOCATION IN DEV CATALOG\n",
    "CREATE SCHEMA dev.bronze \n",
    "COMMENT 'This is Schema in DEV catalog without external location';"
   ]
  },
  {
   "cell_type": "code",
   "execution_count": 0,
   "metadata": {
    "application/vnd.databricks.v1+cell": {
     "cellMetadata": {
      "byteLimit": 2048000,
      "rowLimit": 10000
     },
     "inputWidgets": {},
     "nuid": "38fba6bc-74c7-4d46-875a-b43a70c4bd51",
     "showTitle": false,
     "tableResultSettingsMap": {},
     "title": ""
    }
   },
   "outputs": [],
   "source": [
    "--CREATE SCHEMA WITHOUT EXTERNAL LOCATION IN DEV_EXT CATALOG\n",
    "CREATE SCHEMA dev_ext.bronze \n",
    "COMMENT 'This is Schema in DEV_EXT catalog without external location';"
   ]
  },
  {
   "cell_type": "code",
   "execution_count": 0,
   "metadata": {
    "application/vnd.databricks.v1+cell": {
     "cellMetadata": {
      "byteLimit": 2048000,
      "rowLimit": 10000
     },
     "inputWidgets": {},
     "nuid": "c98aa607-bb23-43bb-9d69-7091c94a89b9",
     "showTitle": false,
     "tableResultSettingsMap": {},
     "title": ""
    }
   },
   "outputs": [],
   "source": [
    "--CREATE EXTERAL LOCATION FOR SCHEMA\n",
    "CREATE EXTERNAL LOCATION `ext_schema`\n",
    "URL 'abfss://data@adbstorageaccountdeba01.dfs.core.windows.net/adb/schema'\n",
    "WITH (STORAGE CREDENTIAL `adb-storage-credential-deba`);"
   ]
  },
  {
   "cell_type": "code",
   "execution_count": 0,
   "metadata": {
    "application/vnd.databricks.v1+cell": {
     "cellMetadata": {
      "byteLimit": 2048000,
      "rowLimit": 10000
     },
     "inputWidgets": {},
     "nuid": "16d1405e-45e9-4e07-b436-7b952d96afda",
     "showTitle": false,
     "tableResultSettingsMap": {},
     "title": ""
    }
   },
   "outputs": [],
   "source": [
    "--CREATE SCHEMA WITH EXTERNAL LOCATION IN DEV_EXT CATALOG\n",
    "CREATE SCHEMA dev_ext.bronze_ext\n",
    "MANAGED LOCATION 'abfss://data@adbstorageaccountdeba01.dfs.core.windows.net/adb/schema/bronze_ext'\n",
    "COMMENT 'This is Schema in DEV_EXT catalog with external location';"
   ]
  },
  {
   "cell_type": "code",
   "execution_count": 0,
   "metadata": {
    "application/vnd.databricks.v1+cell": {
     "cellMetadata": {
      "byteLimit": 2048000,
      "rowLimit": 10000
     },
     "inputWidgets": {},
     "nuid": "2ca32dcc-c9d9-4812-ac2e-8e0f037215df",
     "showTitle": false,
     "tableResultSettingsMap": {},
     "title": ""
    }
   },
   "outputs": [],
   "source": [
    "--CREATE TABLE RAW_SALES IN ALL THREE SCHEMA\n",
    "CREATE TABLE IF NOT EXISTS DEV.BRONZE.RAW_SALE(\n",
    " invoice_id STRING,\n",
    " cust_id STRING,\n",
    " product_code STRING,\n",
    " qty DOUBLE,\n",
    " price DOUBLE\n",
    ");\n",
    "\n",
    "--INSERT DATA\n",
    "INSERT INTO DEV.BRONZE.RAW_SALE VALUES ('INV1001','CUST1001','PCODE1001',10,100);"
   ]
  },
  {
   "cell_type": "code",
   "execution_count": 0,
   "metadata": {
    "application/vnd.databricks.v1+cell": {
     "cellMetadata": {
      "byteLimit": 2048000,
      "rowLimit": 10000
     },
     "inputWidgets": {},
     "nuid": "da7bd049-1389-48c7-ac38-1487ac6b0fe7",
     "showTitle": false,
     "tableResultSettingsMap": {},
     "title": ""
    }
   },
   "outputs": [],
   "source": [
    "CREATE TABLE DEV_EXT.BRONZE.RAW_SALE(\n",
    " invoice_id STRING,\n",
    " cust_id STRING,\n",
    " product_code STRING,\n",
    " qty DOUBLE,\n",
    " price DOUBLE\n",
    ");\n",
    "\n",
    "\n",
    "--INSERT DATA\n",
    "INSERT INTO DEV_EXT.BRONZE.RAW_SALE VALUES ('INV1001','CUST1001','PCODE1001',10,100);"
   ]
  },
  {
   "cell_type": "code",
   "execution_count": 0,
   "metadata": {
    "application/vnd.databricks.v1+cell": {
     "cellMetadata": {
      "byteLimit": 2048000,
      "rowLimit": 10000
     },
     "inputWidgets": {},
     "nuid": "a221cba8-0e40-43a4-ad29-136651ab7625",
     "showTitle": false,
     "tableResultSettingsMap": {},
     "title": ""
    }
   },
   "outputs": [],
   "source": [
    "DESCRIBE EXTENDED DEV_EXT.BRONZE_EXT.RAW_SALE;"
   ]
  },
  {
   "cell_type": "code",
   "execution_count": 0,
   "metadata": {
    "application/vnd.databricks.v1+cell": {
     "cellMetadata": {
      "byteLimit": 2048000,
      "rowLimit": 10000
     },
     "inputWidgets": {},
     "nuid": "854b434d-4380-4a3c-9a3b-a73bca20ea75",
     "showTitle": false,
     "tableResultSettingsMap": {},
     "title": ""
    }
   },
   "outputs": [],
   "source": [
    "CREATE TABLE IF NOT EXISTS DEV_EXT.BRONZE_EXT.RAW_SALE(\n",
    " invoice_id STRING,\n",
    " cust_id STRING,\n",
    " product_code STRING,\n",
    " qty DOUBLE,\n",
    " price DOUBLE\n",
    ");\n",
    "\n",
    "--INSERT DATA\n",
    "INSERT INTO DEV_EXT.BRONZE_EXT.RAW_SALE VALUES ('INV1001','CUST1001','PCODE1001',10,100);"
   ]
  },
  {
   "cell_type": "code",
   "execution_count": 0,
   "metadata": {
    "application/vnd.databricks.v1+cell": {
     "cellMetadata": {},
     "inputWidgets": {},
     "nuid": "8051ba84-65e0-435f-b695-2eb37fcd3895",
     "showTitle": false,
     "tableResultSettingsMap": {},
     "title": ""
    }
   },
   "outputs": [],
   "source": []
  }
 ],
 "metadata": {
  "application/vnd.databricks.v1+notebook": {
   "computePreferences": null,
   "dashboards": [],
   "environmentMetadata": {
    "base_environment": "",
    "environment_version": "2"
   },
   "language": "sql",
   "notebookMetadata": {
    "pythonIndentUnit": 4
   },
   "notebookName": "Schemas",
   "widgets": {}
  },
  "language_info": {
   "name": "sql"
  }
 },
 "nbformat": 4,
 "nbformat_minor": 0
}
